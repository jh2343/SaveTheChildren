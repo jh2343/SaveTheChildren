{
 "cells": [
  {
   "cell_type": "markdown",
   "metadata": {},
   "source": [
    "### Download all files locally "
   ]
  },
  {
   "cell_type": "code",
   "execution_count": 5,
   "metadata": {},
   "outputs": [
    {
     "name": "stdout",
     "output_type": "stream",
     "text": [
      ".csv = https://data.humdata.org/dataset/26727d1b-af49-4323-9215-c2ac479abb87/resource/39614bfb-0f9c-4800-8997-e68e41a38ced/download/wfp_food_prices_som.csv\n",
      "OTHER = https://fdw.fews.net/api/marketpricefacts/?dataset=FEWS_NET_Staple_Food_Price_Data&country=SO&format=csv&fields=website&end_date\n",
      ".xlsx = https://data.humdata.org/dataset/be09b1a5-e457-448f-8d2d-63b0debc1742/resource/237e1704-29c9-4a8f-9f91-9e3dac624d7e/download/som_3ws_march.xlsx\n",
      ".xlsx = https://data.humdata.org/dataset/9fd710d4-ab87-43c9-b6da-39847af345b1/resource/3bc1cf5a-a46d-47a5-8f7f-93789f5db5b9/download/health-facilities.xlsx\n",
      ".xlsx = https://data.humdata.org/dataset/b06b223b-499f-4d6f-b6a8-5501497f9613/resource/aa20b398-5dab-418d-a4a5-5623dcd0ae72/download/2020-shcc-health-care-somalia-data.xlsx\n",
      "OTHER = https://map.ipcinfo.org/api/public/population-tracking-tool/data/2017,2022/?export=true&condition=A&country=SO\n",
      ".xlsx = https://data.humdata.org/dataset/6c4c69cf-8ca0-4bfc-8c46-73cdb18812d5/resource/d52e624e-87c8-40cd-bf82-27d37da0fb93/download/2021-post-gu-amn-burden-and-prevalence-9-sep-2021.xlsx\n",
      ".xlsx = https://data.humdata.org/dataset/6cac9c64-2716-4809-9e82-440839d421f6/resource/6359a185-01a9-401f-8883-eccc7674ec82/download/population-15.7_final.xlsx\n",
      ".xlsx = https://data.humdata.org/dataset/6cac9c64-2716-4809-9e82-440839d421f6/resource/dc1e7705-781c-49b6-b011-6cad9adb2de3/download/somalia-total-population-by-district.xlsx\n",
      ".xlsx = https://data.humdata.org/dataset/6cac9c64-2716-4809-9e82-440839d421f6/resource/87bae300-8b66-452a-8da1-439664757ef2/download/somalia-population-statistics.xlsx\n",
      ".csv = https://data.humdata.org/dataset/6cac9c64-2716-4809-9e82-440839d421f6/resource/a63d9729-c8fa-4456-a3fd-11034dd2117b/download/som_pplp_adm2_v2.csv\n",
      ".xlsx = https://data.humdata.org/dataset/353b978c-b2eb-4751-ae97-fc468de28546/resource/b8762af5-32b0-4d57-947c-9dacd72c249b/download/somalia-hno-2018_hxl.xlsx\n",
      ".xlsx = https://data.humdata.org/dataset/353b978c-b2eb-4751-ae97-fc468de28546/resource/0acea170-ba54-4539-b58d-e68f1fb503d6/download/somalia-hno-2019.xlsx\n",
      ".xlsx = https://data.humdata.org/dataset/353b978c-b2eb-4751-ae97-fc468de28546/resource/8a9decd9-7b00-41cf-9225-4a6448892927/download/somalia-hno-2020.xlsx\n",
      ".xlsx = https://data.humdata.org/dataset/353b978c-b2eb-4751-ae97-fc468de28546/resource/4a6dc33f-6ba3-4a1c-8782-89fd684ea660/download/somalia_pin_2021.xlsx\n",
      ".xlsx = https://data.humdata.org/dataset/353b978c-b2eb-4751-ae97-fc468de28546/resource/a807627c-ddb8-49da-8f9f-587fc4c3002d/download/combined_cluster_pin_hxl.xlsx\n",
      ".xlsx = https://data.humdata.org/dataset/353b978c-b2eb-4751-ae97-fc468de28546/resource/252cbb5c-e4c5-4c1c-8e23-4d366b7daf42/download/hno-2022-refugees-and-returnees.xlsx\n",
      ".csv = https://data.humdata.org/dataset/c48f2ae8-fd5c-48fb-bcf4-81be54e746a1/resource/d8f3fc76-52a6-4582-b9ce-d4f78f897aeb/download/fts_requirements_funding_som.csv\n",
      ".csv = https://data.humdata.org/dataset/c48f2ae8-fd5c-48fb-bcf4-81be54e746a1/resource/b746ec0e-c7c7-4fa7-b697-3657c56c6fdf/download/fts_requirements_funding_covid_som.csv\n",
      ".csv = https://data.humdata.org/dataset/c48f2ae8-fd5c-48fb-bcf4-81be54e746a1/resource/e7c49922-326b-44a7-b350-1652c330a0ea/download/fts_requirements_funding_cluster_som.csv\n",
      ".csv = https://data.humdata.org/dataset/c48f2ae8-fd5c-48fb-bcf4-81be54e746a1/resource/789c440a-e45d-4911-8ce5-a9c1280120c2/download/fts_requirements_funding_globalcluster_som.csv\n",
      ".csv = https://data.humdata.org/dataset/c48f2ae8-fd5c-48fb-bcf4-81be54e746a1/resource/469b22ae-f059-4109-9ac0-866328c8018a/download/fts_incoming_funding_som.csv\n",
      ".csv = https://data.humdata.org/dataset/c48f2ae8-fd5c-48fb-bcf4-81be54e746a1/resource/c972db10-174d-40b9-9922-18d287a35fd0/download/fts_internal_funding_som.csv\n",
      ".zip = https://data.humdata.org/dataset/ec140a63-5330-4376-a3df-c7ebf73cfc3c/resource/6f42e9ce-bbca-4c0d-a3e6-85efc9298c3c/download/som-administrative-divisions-shapefiles.zip\n",
      ".zip = https://data.humdata.org/dataset/56077ecb-d91d-4836-9431-9c00ab122a02/resource/035c6614-759c-492b-bea3-aaef5e342350/download/somalia_allroads.zip\n",
      "OTHER = https://fdw.fews.net/api/ipcpackage/?country_code=SO&collection_date=\n",
      ".csv = https://data.humdata.org/dataset/e0d3fba6-f9a2-45d7-b949-140c455197ff/resource/517ee1bf-2437-4f8c-aa1b-cb9925b9d437/download/wfp_food_prices_ken.csv\n",
      "OTHER = https://map.ipcinfo.org/api/public/population-tracking-tool/data/2017,2022/?export=true&condition=A&country=KE\n",
      "OTHER = https://fdw.fews.net/api/ipcpackage/?country_code=KE&collection_date=\n",
      ".xlsx = https://data.humdata.org/dataset/26801642-7088-4149-9605-6ae282897937/resource/e57fb9a8-96dc-4a21-849b-1ddbc4ed7803/download/ken_admpop_2019.xlsx\n",
      ".xlsx = https://data.humdata.org/dataset/26801642-7088-4149-9605-6ae282897937/resource/bfe30344-5fb4-45dd-b1d1-565690aba5fc/download/ken_adminboundaries_tabulardata.xlsx\n",
      ".zip = https://data.humdata.org/dataset/2c0b7571-4bef-4347-9b81-b2174c13f9ef/resource/03df9cbb-0b4f-4f22-9eb7-3cbd0157fd3d/download/ken_adm_iebc_20191031_shp.zip\n",
      ".xlsx = https://data.humdata.org/dataset/7b9c2851-dc37-4a88-9dcb-62e55eb91baf/resource/df6bfc55-3b25-4309-a1b4-74afba434956/download/kenya-health-facilities-2017_08_02.xlsx\n",
      ".zip = https://export.hotosm.org/downloads/6b3f8c4a-589d-4537-99e4-1518937c23a8/hotosm_ken_roads_lines_shp.zip\n"
     ]
    }
   ],
   "source": [
    "import pandas as pd\n",
    "import urllib.request\n",
    "import os \n",
    "import shutil\n",
    "\n",
    "#MAKE FOLDER TO SAVE FILES TOO\n",
    "dirpath = \"../save_child_data\"\n",
    "if os.path.exists(dirpath) and os.path.isdir(dirpath):\n",
    "    shutil.rmtree(dirpath)\n",
    "os.mkdir(dirpath)\n",
    "\n",
    "#LIST OF URL \n",
    "list1=[\"https://data.humdata.org/dataset/26727d1b-af49-4323-9215-c2ac479abb87/resource/39614bfb-0f9c-4800-8997-e68e41a38ced/download/wfp_food_prices_som.csv\",\n",
    "\"https://fdw.fews.net/api/marketpricefacts/?dataset=FEWS_NET_Staple_Food_Price_Data&country=SO&format=csv&fields=website&end_date\",\n",
    "\"https://data.humdata.org/dataset/be09b1a5-e457-448f-8d2d-63b0debc1742/resource/237e1704-29c9-4a8f-9f91-9e3dac624d7e/download/som_3ws_march.xlsx\",\n",
    "\"https://data.humdata.org/dataset/9fd710d4-ab87-43c9-b6da-39847af345b1/resource/3bc1cf5a-a46d-47a5-8f7f-93789f5db5b9/download/health-facilities.xlsx\",\n",
    "\"https://data.humdata.org/dataset/b06b223b-499f-4d6f-b6a8-5501497f9613/resource/aa20b398-5dab-418d-a4a5-5623dcd0ae72/download/2020-shcc-health-care-somalia-data.xlsx\",\n",
    "\"https://map.ipcinfo.org/api/public/population-tracking-tool/data/2017,2022/?export=true&condition=A&country=SO\",\n",
    "\"https://data.humdata.org/dataset/6c4c69cf-8ca0-4bfc-8c46-73cdb18812d5/resource/d52e624e-87c8-40cd-bf82-27d37da0fb93/download/2021-post-gu-amn-burden-and-prevalence-9-sep-2021.xlsx\",\n",
    "\"https://data.humdata.org/dataset/6cac9c64-2716-4809-9e82-440839d421f6/resource/6359a185-01a9-401f-8883-eccc7674ec82/download/population-15.7_final.xlsx\",\n",
    "\"https://data.humdata.org/dataset/6cac9c64-2716-4809-9e82-440839d421f6/resource/dc1e7705-781c-49b6-b011-6cad9adb2de3/download/somalia-total-population-by-district.xlsx\",\n",
    "\"https://data.humdata.org/dataset/6cac9c64-2716-4809-9e82-440839d421f6/resource/87bae300-8b66-452a-8da1-439664757ef2/download/somalia-population-statistics.xlsx\",\n",
    "\"https://data.humdata.org/dataset/6cac9c64-2716-4809-9e82-440839d421f6/resource/a63d9729-c8fa-4456-a3fd-11034dd2117b/download/som_pplp_adm2_v2.csv\",\n",
    "\"https://data.humdata.org/dataset/353b978c-b2eb-4751-ae97-fc468de28546/resource/b8762af5-32b0-4d57-947c-9dacd72c249b/download/somalia-hno-2018_hxl.xlsx\",\n",
    "\"https://data.humdata.org/dataset/353b978c-b2eb-4751-ae97-fc468de28546/resource/0acea170-ba54-4539-b58d-e68f1fb503d6/download/somalia-hno-2019.xlsx\",\n",
    "\"https://data.humdata.org/dataset/353b978c-b2eb-4751-ae97-fc468de28546/resource/8a9decd9-7b00-41cf-9225-4a6448892927/download/somalia-hno-2020.xlsx\",\n",
    "\"https://data.humdata.org/dataset/353b978c-b2eb-4751-ae97-fc468de28546/resource/4a6dc33f-6ba3-4a1c-8782-89fd684ea660/download/somalia_pin_2021.xlsx\",\n",
    "\"https://data.humdata.org/dataset/353b978c-b2eb-4751-ae97-fc468de28546/resource/a807627c-ddb8-49da-8f9f-587fc4c3002d/download/combined_cluster_pin_hxl.xlsx\",\n",
    "\"https://data.humdata.org/dataset/353b978c-b2eb-4751-ae97-fc468de28546/resource/252cbb5c-e4c5-4c1c-8e23-4d366b7daf42/download/hno-2022-refugees-and-returnees.xlsx\",\n",
    "\"https://data.humdata.org/dataset/c48f2ae8-fd5c-48fb-bcf4-81be54e746a1/resource/d8f3fc76-52a6-4582-b9ce-d4f78f897aeb/download/fts_requirements_funding_som.csv\",\n",
    "\"https://data.humdata.org/dataset/c48f2ae8-fd5c-48fb-bcf4-81be54e746a1/resource/b746ec0e-c7c7-4fa7-b697-3657c56c6fdf/download/fts_requirements_funding_covid_som.csv\",\n",
    "\"https://data.humdata.org/dataset/c48f2ae8-fd5c-48fb-bcf4-81be54e746a1/resource/e7c49922-326b-44a7-b350-1652c330a0ea/download/fts_requirements_funding_cluster_som.csv\",\n",
    "\"https://data.humdata.org/dataset/c48f2ae8-fd5c-48fb-bcf4-81be54e746a1/resource/789c440a-e45d-4911-8ce5-a9c1280120c2/download/fts_requirements_funding_globalcluster_som.csv\",\n",
    "\"https://data.humdata.org/dataset/c48f2ae8-fd5c-48fb-bcf4-81be54e746a1/resource/469b22ae-f059-4109-9ac0-866328c8018a/download/fts_incoming_funding_som.csv\",\n",
    "\"https://data.humdata.org/dataset/c48f2ae8-fd5c-48fb-bcf4-81be54e746a1/resource/c972db10-174d-40b9-9922-18d287a35fd0/download/fts_internal_funding_som.csv\",\n",
    "\"https://data.humdata.org/dataset/ec140a63-5330-4376-a3df-c7ebf73cfc3c/resource/6f42e9ce-bbca-4c0d-a3e6-85efc9298c3c/download/som-administrative-divisions-shapefiles.zip\",\n",
    "\"https://data.humdata.org/dataset/56077ecb-d91d-4836-9431-9c00ab122a02/resource/035c6614-759c-492b-bea3-aaef5e342350/download/somalia_allroads.zip\",\n",
    "\"https://fdw.fews.net/api/ipcpackage/?country_code=SO&collection_date=\",\n",
    "\"https://data.humdata.org/dataset/e0d3fba6-f9a2-45d7-b949-140c455197ff/resource/517ee1bf-2437-4f8c-aa1b-cb9925b9d437/download/wfp_food_prices_ken.csv\",\n",
    "\"https://map.ipcinfo.org/api/public/population-tracking-tool/data/2017,2022/?export=true&condition=A&country=KE\",\n",
    "\"https://fdw.fews.net/api/ipcpackage/?country_code=KE&collection_date=\",\n",
    "\"https://data.humdata.org/dataset/26801642-7088-4149-9605-6ae282897937/resource/e57fb9a8-96dc-4a21-849b-1ddbc4ed7803/download/ken_admpop_2019.xlsx\",\n",
    "\"https://data.humdata.org/dataset/26801642-7088-4149-9605-6ae282897937/resource/bfe30344-5fb4-45dd-b1d1-565690aba5fc/download/ken_adminboundaries_tabulardata.xlsx\",\n",
    "\"https://data.humdata.org/dataset/2c0b7571-4bef-4347-9b81-b2174c13f9ef/resource/03df9cbb-0b4f-4f22-9eb7-3cbd0157fd3d/download/ken_adm_iebc_20191031_shp.zip\",\n",
    "\"https://data.humdata.org/dataset/7b9c2851-dc37-4a88-9dcb-62e55eb91baf/resource/df6bfc55-3b25-4309-a1b4-74afba434956/download/kenya-health-facilities-2017_08_02.xlsx\",\n",
    "\"https://export.hotosm.org/downloads/6b3f8c4a-589d-4537-99e4-1518937c23a8/hotosm_ken_roads_lines_shp.zip\",\n",
    "\"https://data.humdata.org/dataset/d0bf93aa-bc16-426b-b53b-c8c90fac98a4/resource/a1273a2a-7fa5-4233-8ba5-d756abc2baee/download/fts_requirements_funding_ken.csv\",\n",
    "\"https://data.humdata.org/dataset/d0bf93aa-bc16-426b-b53b-c8c90fac98a4/resource/3a313ca0-e283-4763-8ef4-0efeaeeb671f/download/fts_requirements_funding_covid_ken.csv\",\n",
    "\"https://data.humdata.org/dataset/d0bf93aa-bc16-426b-b53b-c8c90fac98a4/resource/5b10afe9-cd6d-4dcf-9514-52890b3a776e/download/fts_requirements_funding_cluster_ken.csv\",\n",
    "\"https://data.humdata.org/dataset/d0bf93aa-bc16-426b-b53b-c8c90fac98a4/resource/b6136d9e-24a4-4864-adbc-adef30e62516/download/fts_requirements_funding_globalcluster_ken.csv\",\n",
    "\"https://data.humdata.org/dataset/d0bf93aa-bc16-426b-b53b-c8c90fac98a4/resource/da2fbb4e-126c-4c98-9cdc-f74f953f96d7/download/fts_incoming_funding_ken.csv\",\n",
    "\"https://data.humdata.org/dataset/e849a312-8962-4595-ace8-500484490569/resource/daa8e9e1-4013-4075-a625-149317412a56/download/health_ken.csv\"]\n",
    "\n",
    "# LOOP OVER URL AND SAVE \n",
    "counter=1\n",
    "file_types=[\".csv\",\".xlsx\",\".zip\"]\n",
    "for url in list1:\n",
    "    found_file_type=False\n",
    "    for file_type in file_types:\n",
    "        if( file_type in url):\n",
    "            print(file_type,\"=\",url)\n",
    "            urllib.request.urlretrieve(url, dirpath+\"/datafile-\"+str(counter)+file_type)\n",
    "            found_file_type=True\n",
    "    if found_file_type==False:\n",
    "        print(\"OTHER =\",url)\n",
    "        urllib.request.urlretrieve(url, dirpath+\"/other-\"+str(counter))\n",
    "    counter+=1 \n",
    "\n"
   ]
  },
  {
   "cell_type": "code",
   "execution_count": null,
   "metadata": {},
   "outputs": [],
   "source": [
    "\n",
    "#     # if( \".zip\" not in url):\n",
    "#     #     try:    \n",
    "#     #         c=pd.read_csv(url,encoding_errors=\"replace\", on_bad_lines='skip',encoding=None,lineterminator='\\n')\n",
    "#     #         print(c.shape)\n",
    "#     #         print(c.columns)\n",
    "#     #     except:\n",
    "#     #         print(\"error:\", url)"
   ]
  }
 ],
 "metadata": {
  "kernelspec": {
   "display_name": "Python 3.10.4 ('ANLY590')",
   "language": "python",
   "name": "python3"
  },
  "language_info": {
   "codemirror_mode": {
    "name": "ipython",
    "version": 3
   },
   "file_extension": ".py",
   "mimetype": "text/x-python",
   "name": "python",
   "nbconvert_exporter": "python",
   "pygments_lexer": "ipython3",
   "version": "3.10.4"
  },
  "orig_nbformat": 4,
  "vscode": {
   "interpreter": {
    "hash": "2b6082c1c9eef3a910163f232074f2e179e34ed8469dd2c24c723d1290ad549e"
   }
  }
 },
 "nbformat": 4,
 "nbformat_minor": 2
}
